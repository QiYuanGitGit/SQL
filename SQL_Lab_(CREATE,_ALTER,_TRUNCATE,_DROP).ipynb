{
  "nbformat": 4,
  "nbformat_minor": 0,
  "metadata": {
    "colab": {
      "provenance": []
    },
    "kernelspec": {
      "name": "python3",
      "display_name": "Python 3"
    },
    "language_info": {
      "name": "python"
    }
  },
  "cells": [
    {
      "cell_type": "code",
      "source": [
        "%pip install jupysql duckdb-engine --quiet\n",
        "#Run in jupyter notebook from \"https://jupysql.ploomber.io/en/latest/quick-start.html#\"\n",
        "#https://github.com/catherinedevlin/ipython-sql?tab=readme-ov-file"
      ],
      "metadata": {
        "colab": {
          "base_uri": "https://localhost:8080/"
        },
        "id": "aXbR29eNLCuh",
        "outputId": "36871fb4-5559-48d1-eb18-c67c6f34527f"
      },
      "execution_count": 1,
      "outputs": [
        {
          "output_type": "stream",
          "name": "stdout",
          "text": [
            "Note: you may need to restart the kernel to use updated packages.\n"
          ]
        },
        {
          "output_type": "stream",
          "name": "stderr",
          "text": [
            "WARNING: Ignoring invalid distribution ~atplotlib (C:\\Users\\qy\\miniconda3\\Lib\\site-packages)\n",
            "WARNING: Ignoring invalid distribution ~atplotlib (C:\\Users\\qy\\miniconda3\\Lib\\site-packages)\n",
            "WARNING: Ignoring invalid distribution ~atplotlib (C:\\Users\\qy\\miniconda3\\Lib\\site-packages)\n"
          ]
        }
      ]
    },
    {
      "cell_type": "markdown",
      "source": [
        "#Load SQL extension"
      ],
      "metadata": {
        "id": "RWi9bplI_rWo"
      }
    },
    {
      "cell_type": "code",
      "source": [
        "%load_ext sql"
      ],
      "metadata": {
        "id": "6PSoPVD0-SuD"
      },
      "execution_count": 2,
      "outputs": []
    },
    {
      "cell_type": "code",
      "source": [
        "%sql sqlite://"
      ],
      "metadata": {
        "colab": {
          "base_uri": "https://localhost:8080/",
          "height": 34
        },
        "id": "SZblhS7jT6QM",
        "outputId": "2801365c-0666-4bbb-fb06-d028a0d7894f"
      },
      "execution_count": 3,
      "outputs": [
        {
          "output_type": "display_data",
          "data": {
            "text/plain": [
              "Connecting to 'sqlite://'"
            ],
            "text/html": [
              "<span style=\"None\">Connecting to &#x27;sqlite://&#x27;</span>"
            ]
          },
          "metadata": {}
        }
      ]
    },
    {
      "cell_type": "markdown",
      "source": [
        "#SQL Lab"
      ],
      "metadata": {
        "id": "Mcp_LgiKJW8y"
      }
    },
    {
      "cell_type": "markdown",
      "source": [
        "%sql for single lines of SQL commands, %%SQL for multiple lines of SQL commands"
      ],
      "metadata": {
        "id": "h3hKIORNQStI"
      }
    },
    {
      "cell_type": "markdown",
      "source": [
        "## CREATE, ALTER, TRUNCATE, DROP"
      ],
      "metadata": {
        "id": "UkUFRFJpYEL5"
      }
    },
    {
      "cell_type": "code",
      "source": [
        "%%sql\n",
        "CREATE TABLE PETSALE (\n",
        "        ID INTEGER NOT NULL,\n",
        "        PET CHAR(20),\n",
        "        SALEPRICE DECIMAL(6,2),\n",
        "        PROFIT DECIMAL(6,2),\n",
        "        SALEDATE DATE\n",
        "        );\n",
        "\n",
        "CREATE TABLE PET (\n",
        "        ID INTEGER NOT NULL,\n",
        "        ANIMAL VARCHAR(20),\n",
        "        QUANTITY INTEGER\n",
        "        );"
      ],
      "metadata": {
        "colab": {
          "base_uri": "https://localhost:8080/",
          "height": 34
        },
        "id": "0EJRMBaWTsUi",
        "outputId": "39c906bc-e05a-424c-afa9-7826d1d0b615"
      },
      "execution_count": 4,
      "outputs": [
        {
          "output_type": "display_data",
          "data": {
            "text/plain": [
              "Running query in 'sqlite://'"
            ],
            "text/html": [
              "<span style=\"None\">Running query in &#x27;sqlite://&#x27;</span>"
            ]
          },
          "metadata": {}
        },
        {
          "output_type": "execute_result",
          "data": {
            "text/plain": [
              "++\n",
              "||\n",
              "++\n",
              "++"
            ],
            "text/html": [
              "<table>\n",
              "    <thead>\n",
              "        <tr>\n",
              "        </tr>\n",
              "    </thead>\n",
              "    <tbody>\n",
              "    </tbody>\n",
              "</table>"
            ]
          },
          "metadata": {},
          "execution_count": 4
        }
      ]
    },
    {
      "cell_type": "code",
      "source": [
        "%%sql\n",
        "\n",
        "INSERT INTO PETSALE VALUES\n",
        "        (1,'Cat',450.09,100.47,'2018-05-29'),\n",
        "        (2,'Dog',666.66,150.76,'2018-06-01'),\n",
        "        (3,'Parrot',50.00,8.9,'2018-06-04'),\n",
        "        (4,'Hamster',60.60,12,'2018-06-11'),\n",
        "        (5,'Goldfish',48.48,3.5,'2018-06-14');\n",
        "\n",
        "INSERT INTO PET VALUES\n",
        "        (1,'Cat',3),\n",
        "        (2,'Dog',4),\n",
        "        (3,'Hamster',2);\n",
        "\n",
        "SELECT * FROM PETSALE;\n",
        "SELECT * FROM PET;"
      ],
      "metadata": {
        "colab": {
          "base_uri": "https://localhost:8080/",
          "height": 156
        },
        "id": "vcHNPDH0UNjH",
        "outputId": "f3c1ec74-0f20-4e8f-ba50-3d79b9c923d8"
      },
      "execution_count": 5,
      "outputs": [
        {
          "output_type": "display_data",
          "data": {
            "text/plain": [
              "Running query in 'sqlite://'"
            ],
            "text/html": [
              "<span style=\"None\">Running query in &#x27;sqlite://&#x27;</span>"
            ]
          },
          "metadata": {}
        },
        {
          "output_type": "display_data",
          "data": {
            "text/plain": [
              "5 rows affected."
            ],
            "text/html": [
              "<span style=\"color: green\">5 rows affected.</span>"
            ]
          },
          "metadata": {}
        },
        {
          "output_type": "display_data",
          "data": {
            "text/plain": [
              "3 rows affected."
            ],
            "text/html": [
              "<span style=\"color: green\">3 rows affected.</span>"
            ]
          },
          "metadata": {}
        },
        {
          "output_type": "execute_result",
          "data": {
            "text/plain": [
              "+----+---------+----------+\n",
              "| ID |  ANIMAL | QUANTITY |\n",
              "+----+---------+----------+\n",
              "| 1  |   Cat   |    3     |\n",
              "| 2  |   Dog   |    4     |\n",
              "| 3  | Hamster |    2     |\n",
              "+----+---------+----------+"
            ],
            "text/html": [
              "<table>\n",
              "    <thead>\n",
              "        <tr>\n",
              "            <th>ID</th>\n",
              "            <th>ANIMAL</th>\n",
              "            <th>QUANTITY</th>\n",
              "        </tr>\n",
              "    </thead>\n",
              "    <tbody>\n",
              "        <tr>\n",
              "            <td>1</td>\n",
              "            <td>Cat</td>\n",
              "            <td>3</td>\n",
              "        </tr>\n",
              "        <tr>\n",
              "            <td>2</td>\n",
              "            <td>Dog</td>\n",
              "            <td>4</td>\n",
              "        </tr>\n",
              "        <tr>\n",
              "            <td>3</td>\n",
              "            <td>Hamster</td>\n",
              "            <td>2</td>\n",
              "        </tr>\n",
              "    </tbody>\n",
              "</table>"
            ]
          },
          "metadata": {},
          "execution_count": 5
        }
      ]
    },
    {
      "cell_type": "code",
      "source": [
        "%%sql\n",
        "\n",
        "ALTER TABLE PETSALE\n",
        "ADD COLUMN QUANTITY INTEGER;\n",
        "\n",
        "SELECT * FROM PETSALE;"
      ],
      "metadata": {
        "colab": {
          "base_uri": "https://localhost:8080/",
          "height": 164
        },
        "id": "q9Y3dI_HUYTq",
        "outputId": "bbb26bcd-d979-49f5-bf01-16058a266c6d"
      },
      "execution_count": 6,
      "outputs": [
        {
          "output_type": "display_data",
          "data": {
            "text/plain": [
              "Running query in 'sqlite://'"
            ],
            "text/html": [
              "<span style=\"None\">Running query in &#x27;sqlite://&#x27;</span>"
            ]
          },
          "metadata": {}
        },
        {
          "output_type": "execute_result",
          "data": {
            "text/plain": [
              "+----+----------+-----------+--------+------------+----------+\n",
              "| ID |   PET    | SALEPRICE | PROFIT |  SALEDATE  | QUANTITY |\n",
              "+----+----------+-----------+--------+------------+----------+\n",
              "| 1  |   Cat    |   450.09  | 100.47 | 2018-05-29 |   None   |\n",
              "| 2  |   Dog    |   666.66  | 150.76 | 2018-06-01 |   None   |\n",
              "| 3  |  Parrot  |     50    |  8.9   | 2018-06-04 |   None   |\n",
              "| 4  | Hamster  |    60.6   |   12   | 2018-06-11 |   None   |\n",
              "| 5  | Goldfish |   48.48   |  3.5   | 2018-06-14 |   None   |\n",
              "+----+----------+-----------+--------+------------+----------+"
            ],
            "text/html": [
              "<table>\n",
              "    <thead>\n",
              "        <tr>\n",
              "            <th>ID</th>\n",
              "            <th>PET</th>\n",
              "            <th>SALEPRICE</th>\n",
              "            <th>PROFIT</th>\n",
              "            <th>SALEDATE</th>\n",
              "            <th>QUANTITY</th>\n",
              "        </tr>\n",
              "    </thead>\n",
              "    <tbody>\n",
              "        <tr>\n",
              "            <td>1</td>\n",
              "            <td>Cat</td>\n",
              "            <td>450.09</td>\n",
              "            <td>100.47</td>\n",
              "            <td>2018-05-29</td>\n",
              "            <td>None</td>\n",
              "        </tr>\n",
              "        <tr>\n",
              "            <td>2</td>\n",
              "            <td>Dog</td>\n",
              "            <td>666.66</td>\n",
              "            <td>150.76</td>\n",
              "            <td>2018-06-01</td>\n",
              "            <td>None</td>\n",
              "        </tr>\n",
              "        <tr>\n",
              "            <td>3</td>\n",
              "            <td>Parrot</td>\n",
              "            <td>50</td>\n",
              "            <td>8.9</td>\n",
              "            <td>2018-06-04</td>\n",
              "            <td>None</td>\n",
              "        </tr>\n",
              "        <tr>\n",
              "            <td>4</td>\n",
              "            <td>Hamster</td>\n",
              "            <td>60.6</td>\n",
              "            <td>12</td>\n",
              "            <td>2018-06-11</td>\n",
              "            <td>None</td>\n",
              "        </tr>\n",
              "        <tr>\n",
              "            <td>5</td>\n",
              "            <td>Goldfish</td>\n",
              "            <td>48.48</td>\n",
              "            <td>3.5</td>\n",
              "            <td>2018-06-14</td>\n",
              "            <td>None</td>\n",
              "        </tr>\n",
              "    </tbody>\n",
              "</table>"
            ]
          },
          "metadata": {},
          "execution_count": 6
        }
      ]
    },
    {
      "cell_type": "code",
      "source": [
        "%%sql\n",
        "UPDATE PETSALE SET QUANTITY = 9 WHERE ID = 1;\n",
        "UPDATE PETSALE SET QUANTITY = 3 WHERE ID = 2;\n",
        "UPDATE PETSALE SET QUANTITY = 2 WHERE ID = 3;\n",
        "UPDATE PETSALE SET QUANTITY = 6 WHERE ID = 4;\n",
        "UPDATE PETSALE SET QUANTITY = 24 WHERE ID = 5;\n",
        "\n",
        "SELECT * FROM PETSALE;"
      ],
      "metadata": {
        "colab": {
          "base_uri": "https://localhost:8080/",
          "height": 251
        },
        "id": "bL4kJ-PXUtOI",
        "outputId": "b884c155-0adf-4d71-866d-5864ebeb0070"
      },
      "execution_count": 7,
      "outputs": [
        {
          "output_type": "display_data",
          "data": {
            "text/plain": [
              "Running query in 'sqlite://'"
            ],
            "text/html": [
              "<span style=\"None\">Running query in &#x27;sqlite://&#x27;</span>"
            ]
          },
          "metadata": {}
        },
        {
          "output_type": "display_data",
          "data": {
            "text/plain": [
              "1 rows affected."
            ],
            "text/html": [
              "<span style=\"color: green\">1 rows affected.</span>"
            ]
          },
          "metadata": {}
        },
        {
          "output_type": "display_data",
          "data": {
            "text/plain": [
              "1 rows affected."
            ],
            "text/html": [
              "<span style=\"color: green\">1 rows affected.</span>"
            ]
          },
          "metadata": {}
        },
        {
          "output_type": "display_data",
          "data": {
            "text/plain": [
              "1 rows affected."
            ],
            "text/html": [
              "<span style=\"color: green\">1 rows affected.</span>"
            ]
          },
          "metadata": {}
        },
        {
          "output_type": "display_data",
          "data": {
            "text/plain": [
              "1 rows affected."
            ],
            "text/html": [
              "<span style=\"color: green\">1 rows affected.</span>"
            ]
          },
          "metadata": {}
        },
        {
          "output_type": "display_data",
          "data": {
            "text/plain": [
              "1 rows affected."
            ],
            "text/html": [
              "<span style=\"color: green\">1 rows affected.</span>"
            ]
          },
          "metadata": {}
        },
        {
          "output_type": "execute_result",
          "data": {
            "text/plain": [
              "+----+----------+-----------+--------+------------+----------+\n",
              "| ID |   PET    | SALEPRICE | PROFIT |  SALEDATE  | QUANTITY |\n",
              "+----+----------+-----------+--------+------------+----------+\n",
              "| 1  |   Cat    |   450.09  | 100.47 | 2018-05-29 |    9     |\n",
              "| 2  |   Dog    |   666.66  | 150.76 | 2018-06-01 |    3     |\n",
              "| 3  |  Parrot  |     50    |  8.9   | 2018-06-04 |    2     |\n",
              "| 4  | Hamster  |    60.6   |   12   | 2018-06-11 |    6     |\n",
              "| 5  | Goldfish |   48.48   |  3.5   | 2018-06-14 |    24    |\n",
              "+----+----------+-----------+--------+------------+----------+"
            ],
            "text/html": [
              "<table>\n",
              "    <thead>\n",
              "        <tr>\n",
              "            <th>ID</th>\n",
              "            <th>PET</th>\n",
              "            <th>SALEPRICE</th>\n",
              "            <th>PROFIT</th>\n",
              "            <th>SALEDATE</th>\n",
              "            <th>QUANTITY</th>\n",
              "        </tr>\n",
              "    </thead>\n",
              "    <tbody>\n",
              "        <tr>\n",
              "            <td>1</td>\n",
              "            <td>Cat</td>\n",
              "            <td>450.09</td>\n",
              "            <td>100.47</td>\n",
              "            <td>2018-05-29</td>\n",
              "            <td>9</td>\n",
              "        </tr>\n",
              "        <tr>\n",
              "            <td>2</td>\n",
              "            <td>Dog</td>\n",
              "            <td>666.66</td>\n",
              "            <td>150.76</td>\n",
              "            <td>2018-06-01</td>\n",
              "            <td>3</td>\n",
              "        </tr>\n",
              "        <tr>\n",
              "            <td>3</td>\n",
              "            <td>Parrot</td>\n",
              "            <td>50</td>\n",
              "            <td>8.9</td>\n",
              "            <td>2018-06-04</td>\n",
              "            <td>2</td>\n",
              "        </tr>\n",
              "        <tr>\n",
              "            <td>4</td>\n",
              "            <td>Hamster</td>\n",
              "            <td>60.6</td>\n",
              "            <td>12</td>\n",
              "            <td>2018-06-11</td>\n",
              "            <td>6</td>\n",
              "        </tr>\n",
              "        <tr>\n",
              "            <td>5</td>\n",
              "            <td>Goldfish</td>\n",
              "            <td>48.48</td>\n",
              "            <td>3.5</td>\n",
              "            <td>2018-06-14</td>\n",
              "            <td>24</td>\n",
              "        </tr>\n",
              "    </tbody>\n",
              "</table>"
            ]
          },
          "metadata": {},
          "execution_count": 7
        }
      ]
    },
    {
      "cell_type": "code",
      "source": [
        "%%sql\n",
        "ALTER TABLE PETSALE\n",
        "DROP COLUMN PROFIT;\n",
        "\n",
        "SELECT * FROM PETSALE;"
      ],
      "metadata": {
        "colab": {
          "base_uri": "https://localhost:8080/",
          "height": 164
        },
        "id": "7iBg79EmVwN2",
        "outputId": "bf64fa5b-f7d0-4075-cb25-0f778e09f418"
      },
      "execution_count": 8,
      "outputs": [
        {
          "output_type": "display_data",
          "data": {
            "text/plain": [
              "Running query in 'sqlite://'"
            ],
            "text/html": [
              "<span style=\"None\">Running query in &#x27;sqlite://&#x27;</span>"
            ]
          },
          "metadata": {}
        },
        {
          "output_type": "execute_result",
          "data": {
            "text/plain": [
              "+----+----------+-----------+------------+----------+\n",
              "| ID |   PET    | SALEPRICE |  SALEDATE  | QUANTITY |\n",
              "+----+----------+-----------+------------+----------+\n",
              "| 1  |   Cat    |   450.09  | 2018-05-29 |    9     |\n",
              "| 2  |   Dog    |   666.66  | 2018-06-01 |    3     |\n",
              "| 3  |  Parrot  |     50    | 2018-06-04 |    2     |\n",
              "| 4  | Hamster  |    60.6   | 2018-06-11 |    6     |\n",
              "| 5  | Goldfish |   48.48   | 2018-06-14 |    24    |\n",
              "+----+----------+-----------+------------+----------+"
            ],
            "text/html": [
              "<table>\n",
              "    <thead>\n",
              "        <tr>\n",
              "            <th>ID</th>\n",
              "            <th>PET</th>\n",
              "            <th>SALEPRICE</th>\n",
              "            <th>SALEDATE</th>\n",
              "            <th>QUANTITY</th>\n",
              "        </tr>\n",
              "    </thead>\n",
              "    <tbody>\n",
              "        <tr>\n",
              "            <td>1</td>\n",
              "            <td>Cat</td>\n",
              "            <td>450.09</td>\n",
              "            <td>2018-05-29</td>\n",
              "            <td>9</td>\n",
              "        </tr>\n",
              "        <tr>\n",
              "            <td>2</td>\n",
              "            <td>Dog</td>\n",
              "            <td>666.66</td>\n",
              "            <td>2018-06-01</td>\n",
              "            <td>3</td>\n",
              "        </tr>\n",
              "        <tr>\n",
              "            <td>3</td>\n",
              "            <td>Parrot</td>\n",
              "            <td>50</td>\n",
              "            <td>2018-06-04</td>\n",
              "            <td>2</td>\n",
              "        </tr>\n",
              "        <tr>\n",
              "            <td>4</td>\n",
              "            <td>Hamster</td>\n",
              "            <td>60.6</td>\n",
              "            <td>2018-06-11</td>\n",
              "            <td>6</td>\n",
              "        </tr>\n",
              "        <tr>\n",
              "            <td>5</td>\n",
              "            <td>Goldfish</td>\n",
              "            <td>48.48</td>\n",
              "            <td>2018-06-14</td>\n",
              "            <td>24</td>\n",
              "        </tr>\n",
              "    </tbody>\n",
              "</table>"
            ]
          },
          "metadata": {},
          "execution_count": 8
        }
      ]
    },
    {
      "cell_type": "code",
      "source": [
        "%%sql\n",
        "\n",
        "--ALTER TABLE PETSALE\n",
        "--MODIFY PET VARCHAR(20); #modify datatypes\n",
        "SELECT * FROM PETSALE;"
      ],
      "metadata": {
        "colab": {
          "base_uri": "https://localhost:8080/",
          "height": 164
        },
        "id": "ORljN9nzV0AB",
        "outputId": "818f87e3-8c14-4cb7-d451-0f528db2266c"
      },
      "execution_count": 11,
      "outputs": [
        {
          "output_type": "display_data",
          "data": {
            "text/plain": [
              "Running query in 'sqlite://'"
            ],
            "text/html": [
              "<span style=\"None\">Running query in &#x27;sqlite://&#x27;</span>"
            ]
          },
          "metadata": {}
        },
        {
          "output_type": "execute_result",
          "data": {
            "text/plain": [
              "+----+----------+-----------+------------+----------+\n",
              "| ID |   PET    | SALEPRICE |  SALEDATE  | QUANTITY |\n",
              "+----+----------+-----------+------------+----------+\n",
              "| 1  |   Cat    |   450.09  | 2018-05-29 |    9     |\n",
              "| 2  |   Dog    |   666.66  | 2018-06-01 |    3     |\n",
              "| 3  |  Parrot  |     50    | 2018-06-04 |    2     |\n",
              "| 4  | Hamster  |    60.6   | 2018-06-11 |    6     |\n",
              "| 5  | Goldfish |   48.48   | 2018-06-14 |    24    |\n",
              "+----+----------+-----------+------------+----------+"
            ],
            "text/html": [
              "<table>\n",
              "    <thead>\n",
              "        <tr>\n",
              "            <th>ID</th>\n",
              "            <th>PET</th>\n",
              "            <th>SALEPRICE</th>\n",
              "            <th>SALEDATE</th>\n",
              "            <th>QUANTITY</th>\n",
              "        </tr>\n",
              "    </thead>\n",
              "    <tbody>\n",
              "        <tr>\n",
              "            <td>1</td>\n",
              "            <td>Cat</td>\n",
              "            <td>450.09</td>\n",
              "            <td>2018-05-29</td>\n",
              "            <td>9</td>\n",
              "        </tr>\n",
              "        <tr>\n",
              "            <td>2</td>\n",
              "            <td>Dog</td>\n",
              "            <td>666.66</td>\n",
              "            <td>2018-06-01</td>\n",
              "            <td>3</td>\n",
              "        </tr>\n",
              "        <tr>\n",
              "            <td>3</td>\n",
              "            <td>Parrot</td>\n",
              "            <td>50</td>\n",
              "            <td>2018-06-04</td>\n",
              "            <td>2</td>\n",
              "        </tr>\n",
              "        <tr>\n",
              "            <td>4</td>\n",
              "            <td>Hamster</td>\n",
              "            <td>60.6</td>\n",
              "            <td>2018-06-11</td>\n",
              "            <td>6</td>\n",
              "        </tr>\n",
              "        <tr>\n",
              "            <td>5</td>\n",
              "            <td>Goldfish</td>\n",
              "            <td>48.48</td>\n",
              "            <td>2018-06-14</td>\n",
              "            <td>24</td>\n",
              "        </tr>\n",
              "    </tbody>\n",
              "</table>"
            ]
          },
          "metadata": {},
          "execution_count": 11
        }
      ]
    },
    {
      "cell_type": "code",
      "source": [
        "%%sql\n",
        "--ALTER TABLE `PETSALE`\n",
        "--CHANGE `PET` `ANIMAL` varchar(20);  #Rename the column PET to ANIMAL\n",
        "\n",
        "SELECT * FROM PETSALE;"
      ],
      "metadata": {
        "colab": {
          "base_uri": "https://localhost:8080/",
          "height": 164
        },
        "id": "2plzVwOvV5fn",
        "outputId": "56a21710-6f4b-4012-d63f-74855fe4194c"
      },
      "execution_count": 12,
      "outputs": [
        {
          "output_type": "display_data",
          "data": {
            "text/plain": [
              "Running query in 'sqlite://'"
            ],
            "text/html": [
              "<span style=\"None\">Running query in &#x27;sqlite://&#x27;</span>"
            ]
          },
          "metadata": {}
        },
        {
          "output_type": "execute_result",
          "data": {
            "text/plain": [
              "+----+----------+-----------+------------+----------+\n",
              "| ID |   PET    | SALEPRICE |  SALEDATE  | QUANTITY |\n",
              "+----+----------+-----------+------------+----------+\n",
              "| 1  |   Cat    |   450.09  | 2018-05-29 |    9     |\n",
              "| 2  |   Dog    |   666.66  | 2018-06-01 |    3     |\n",
              "| 3  |  Parrot  |     50    | 2018-06-04 |    2     |\n",
              "| 4  | Hamster  |    60.6   | 2018-06-11 |    6     |\n",
              "| 5  | Goldfish |   48.48   | 2018-06-14 |    24    |\n",
              "+----+----------+-----------+------------+----------+"
            ],
            "text/html": [
              "<table>\n",
              "    <thead>\n",
              "        <tr>\n",
              "            <th>ID</th>\n",
              "            <th>PET</th>\n",
              "            <th>SALEPRICE</th>\n",
              "            <th>SALEDATE</th>\n",
              "            <th>QUANTITY</th>\n",
              "        </tr>\n",
              "    </thead>\n",
              "    <tbody>\n",
              "        <tr>\n",
              "            <td>1</td>\n",
              "            <td>Cat</td>\n",
              "            <td>450.09</td>\n",
              "            <td>2018-05-29</td>\n",
              "            <td>9</td>\n",
              "        </tr>\n",
              "        <tr>\n",
              "            <td>2</td>\n",
              "            <td>Dog</td>\n",
              "            <td>666.66</td>\n",
              "            <td>2018-06-01</td>\n",
              "            <td>3</td>\n",
              "        </tr>\n",
              "        <tr>\n",
              "            <td>3</td>\n",
              "            <td>Parrot</td>\n",
              "            <td>50</td>\n",
              "            <td>2018-06-04</td>\n",
              "            <td>2</td>\n",
              "        </tr>\n",
              "        <tr>\n",
              "            <td>4</td>\n",
              "            <td>Hamster</td>\n",
              "            <td>60.6</td>\n",
              "            <td>2018-06-11</td>\n",
              "            <td>6</td>\n",
              "        </tr>\n",
              "        <tr>\n",
              "            <td>5</td>\n",
              "            <td>Goldfish</td>\n",
              "            <td>48.48</td>\n",
              "            <td>2018-06-14</td>\n",
              "            <td>24</td>\n",
              "        </tr>\n",
              "    </tbody>\n",
              "</table>"
            ]
          },
          "metadata": {},
          "execution_count": 12
        }
      ]
    },
    {
      "cell_type": "code",
      "source": [
        "%%sql\n",
        "--TRUNCATE TABLE PET; #remove all rows from an existing table without deleting it\n",
        "\n",
        "SELECT * FROM PET;"
      ],
      "metadata": {
        "colab": {
          "base_uri": "https://localhost:8080/",
          "height": 121
        },
        "id": "tAj53-NNWgVv",
        "outputId": "365e5168-6b9e-4d13-c12a-94da11187d6c"
      },
      "execution_count": 13,
      "outputs": [
        {
          "output_type": "display_data",
          "data": {
            "text/plain": [
              "Running query in 'sqlite://'"
            ],
            "text/html": [
              "<span style=\"None\">Running query in &#x27;sqlite://&#x27;</span>"
            ]
          },
          "metadata": {}
        },
        {
          "output_type": "execute_result",
          "data": {
            "text/plain": [
              "+----+---------+----------+\n",
              "| ID |  ANIMAL | QUANTITY |\n",
              "+----+---------+----------+\n",
              "| 1  |   Cat   |    3     |\n",
              "| 2  |   Dog   |    4     |\n",
              "| 3  | Hamster |    2     |\n",
              "+----+---------+----------+"
            ],
            "text/html": [
              "<table>\n",
              "    <thead>\n",
              "        <tr>\n",
              "            <th>ID</th>\n",
              "            <th>ANIMAL</th>\n",
              "            <th>QUANTITY</th>\n",
              "        </tr>\n",
              "    </thead>\n",
              "    <tbody>\n",
              "        <tr>\n",
              "            <td>1</td>\n",
              "            <td>Cat</td>\n",
              "            <td>3</td>\n",
              "        </tr>\n",
              "        <tr>\n",
              "            <td>2</td>\n",
              "            <td>Dog</td>\n",
              "            <td>4</td>\n",
              "        </tr>\n",
              "        <tr>\n",
              "            <td>3</td>\n",
              "            <td>Hamster</td>\n",
              "            <td>2</td>\n",
              "        </tr>\n",
              "    </tbody>\n",
              "</table>"
            ]
          },
          "metadata": {},
          "execution_count": 13
        }
      ]
    },
    {
      "cell_type": "code",
      "source": [
        "%%sql\n",
        "DROP TABLE PET;\n",
        "\n",
        "SELECT * FROM PET;"
      ],
      "metadata": {
        "colab": {
          "base_uri": "https://localhost:8080/",
          "height": 191
        },
        "id": "Ej30DA3iXRk7",
        "outputId": "f92923ba-0e0a-4222-d98a-90a00fb06519"
      },
      "execution_count": 14,
      "outputs": [
        {
          "output_type": "display_data",
          "data": {
            "text/plain": [
              "Running query in 'sqlite://'"
            ],
            "text/html": [
              "<span style=\"None\">Running query in &#x27;sqlite://&#x27;</span>"
            ]
          },
          "metadata": {}
        },
        {
          "output_type": "stream",
          "name": "stderr",
          "text": [
            "RuntimeError: If using snippets, you may pass the --with argument explicitly.\n",
            "For more details please refer: https://jupysql.ploomber.io/en/latest/compose.html#with-argument\n",
            "\n",
            "\n",
            "Original error message from DB driver:\n",
            "(sqlite3.OperationalError) no such table: PET\n",
            "[SQL: SELECT * FROM PET;]\n",
            "(Background on this error at: https://sqlalche.me/e/20/e3q8)\n",
            "\n"
          ]
        }
      ]
    },
    {
      "cell_type": "markdown",
      "source": [
        "no table pet so error."
      ],
      "metadata": {
        "id": "YX5l_gJMX6Rl"
      }
    }
  ]
}